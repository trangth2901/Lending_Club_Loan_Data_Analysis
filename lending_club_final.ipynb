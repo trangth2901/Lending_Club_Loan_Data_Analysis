{
  "nbformat": 4,
  "nbformat_minor": 0,
  "metadata": {
    "colab": {
      "provenance": []
    },
    "kernelspec": {
      "name": "python3",
      "display_name": "Python 3"
    },
    "language_info": {
      "name": "python"
    }
  },
  "cells": [
    {
      "cell_type": "markdown",
      "source": [
        "## Mô hình phân loại khách hàng trả được nợ và vỡ nợ\n",
        "Các chỉ số quan tâm\n",
        "- Precision\n",
        "- Recall\n",
        "- F1-Score\n",
        "- ROC AUC\n",
        "- Confusion Matrix"
      ],
      "metadata": {
        "id": "eo9GVGoN7eM-"
      }
    },
    {
      "cell_type": "code",
      "execution_count": 1,
      "metadata": {
        "colab": {
          "base_uri": "https://localhost:8080/"
        },
        "id": "S0EdjMG7TLtS",
        "outputId": "583e8245-7fcc-4503-a72f-35cb8b019b19"
      },
      "outputs": [
        {
          "output_type": "stream",
          "name": "stdout",
          "text": [
            "Drive already mounted at /content/drive; to attempt to forcibly remount, call drive.mount(\"/content/drive\", force_remount=True).\n"
          ]
        }
      ],
      "source": [
        "from google.colab import drive\n",
        "drive.mount('/content/drive')\n",
        "import pickle\n",
        "import pandas as pd\n",
        "from datetime import date\n",
        "from sklearn import metrics\n",
        "from sklearn.metrics import classification_report\n",
        "from sklearn.model_selection import train_test_split\n",
        "from sklearn.model_selection import cross_val_score\n",
        "from imblearn.under_sampling import RandomUnderSampler\n",
        "from sklearn.metrics import accuracy_score, precision_score, recall_score, f1_score, roc_auc_score, confusion_matrix\n",
        "from sklearn.linear_model import LogisticRegression\n",
        "import matplotlib.pyplot as plt\n",
        "from seaborn import heatmap\n",
        "import seaborn as sns"
      ]
    },
    {
      "cell_type": "code",
      "source": [
        "# Read the CSV file\n",
        "df = pd.read_csv('/content/drive/MyDrive/Colab Notebooks/Khai phá Tuần 9/accepted_2007_to_2018Q4.csv', low_memory=False)"
      ],
      "metadata": {
        "id": "AsjVrZ55TOUh"
      },
      "execution_count": 2,
      "outputs": []
    },
    {
      "cell_type": "code",
      "source": [
        "# prompt: # Kiểm tra xem cột 'id' df ban đầu có giá trị trùng lặp hay không\n",
        "\n",
        "# Kiểm tra xem cột 'id' df ban đầu có giá trị trùng lặp hay không\n",
        "duplicate_ids = df['id'].duplicated().sum()\n",
        "print(f\"Số lượng giá trị trùng lặp trong cột 'id': {duplicate_ids}\")\n"
      ],
      "metadata": {
        "colab": {
          "base_uri": "https://localhost:8080/"
        },
        "id": "OYFMzlNma8bp",
        "outputId": "9c9b10ce-880f-4aa2-f16c-fdfb9304a9f1"
      },
      "execution_count": 3,
      "outputs": [
        {
          "output_type": "stream",
          "name": "stdout",
          "text": [
            "Số lượng giá trị trùng lặp trong cột 'id': 0\n"
          ]
        }
      ]
    },
    {
      "cell_type": "code",
      "source": [
        "# Kiểm tra dữ liệu lặp trong DataFrame\n",
        "duplicate_rows = df[df.duplicated()]\n",
        "print(\"Số lượng dòng trùng lặp:\", duplicate_rows.shape[0])\n",
        "\n",
        "if not duplicate_rows.empty:\n",
        "  print(\"Các dòng trùng lặp:\")\n",
        "  print(duplicate_rows)"
      ],
      "metadata": {
        "id": "aLodNRjGbW_O",
        "colab": {
          "base_uri": "https://localhost:8080/"
        },
        "outputId": "d2e6f3e5-c9bc-4f36-c48a-8769eccaaed3"
      },
      "execution_count": 4,
      "outputs": [
        {
          "output_type": "stream",
          "name": "stdout",
          "text": [
            "Số lượng dòng trùng lặp: 0\n"
          ]
        }
      ]
    },
    {
      "cell_type": "code",
      "source": [
        "print(\"Dữ liệu ban đầu có\", df.shape)"
      ],
      "metadata": {
        "id": "H1mHX2XeTRRp",
        "colab": {
          "base_uri": "https://localhost:8080/"
        },
        "outputId": "19a70bef-8490-4262-a820-fc601d06acb1"
      },
      "execution_count": 5,
      "outputs": [
        {
          "output_type": "stream",
          "name": "stdout",
          "text": [
            "Dữ liệu ban đầu có (2260701, 151)\n"
          ]
        }
      ]
    },
    {
      "cell_type": "code",
      "source": [
        "df['loan_status'].value_counts()"
      ],
      "metadata": {
        "colab": {
          "base_uri": "https://localhost:8080/",
          "height": 397
        },
        "id": "CMaFu6h3_8IO",
        "outputId": "498629dc-868e-44a1-b625-e80beb9f057b"
      },
      "execution_count": 6,
      "outputs": [
        {
          "output_type": "execute_result",
          "data": {
            "text/plain": [
              "loan_status\n",
              "Fully Paid                                             1076751\n",
              "Current                                                 878317\n",
              "Charged Off                                             268559\n",
              "Late (31-120 days)                                       21467\n",
              "In Grace Period                                           8436\n",
              "Late (16-30 days)                                         4349\n",
              "Does not meet the credit policy. Status:Fully Paid        1988\n",
              "Does not meet the credit policy. Status:Charged Off        761\n",
              "Default                                                     40\n",
              "Name: count, dtype: int64"
            ],
            "text/html": [
              "<div>\n",
              "<style scoped>\n",
              "    .dataframe tbody tr th:only-of-type {\n",
              "        vertical-align: middle;\n",
              "    }\n",
              "\n",
              "    .dataframe tbody tr th {\n",
              "        vertical-align: top;\n",
              "    }\n",
              "\n",
              "    .dataframe thead th {\n",
              "        text-align: right;\n",
              "    }\n",
              "</style>\n",
              "<table border=\"1\" class=\"dataframe\">\n",
              "  <thead>\n",
              "    <tr style=\"text-align: right;\">\n",
              "      <th></th>\n",
              "      <th>count</th>\n",
              "    </tr>\n",
              "    <tr>\n",
              "      <th>loan_status</th>\n",
              "      <th></th>\n",
              "    </tr>\n",
              "  </thead>\n",
              "  <tbody>\n",
              "    <tr>\n",
              "      <th>Fully Paid</th>\n",
              "      <td>1076751</td>\n",
              "    </tr>\n",
              "    <tr>\n",
              "      <th>Current</th>\n",
              "      <td>878317</td>\n",
              "    </tr>\n",
              "    <tr>\n",
              "      <th>Charged Off</th>\n",
              "      <td>268559</td>\n",
              "    </tr>\n",
              "    <tr>\n",
              "      <th>Late (31-120 days)</th>\n",
              "      <td>21467</td>\n",
              "    </tr>\n",
              "    <tr>\n",
              "      <th>In Grace Period</th>\n",
              "      <td>8436</td>\n",
              "    </tr>\n",
              "    <tr>\n",
              "      <th>Late (16-30 days)</th>\n",
              "      <td>4349</td>\n",
              "    </tr>\n",
              "    <tr>\n",
              "      <th>Does not meet the credit policy. Status:Fully Paid</th>\n",
              "      <td>1988</td>\n",
              "    </tr>\n",
              "    <tr>\n",
              "      <th>Does not meet the credit policy. Status:Charged Off</th>\n",
              "      <td>761</td>\n",
              "    </tr>\n",
              "    <tr>\n",
              "      <th>Default</th>\n",
              "      <td>40</td>\n",
              "    </tr>\n",
              "  </tbody>\n",
              "</table>\n",
              "</div><br><label><b>dtype:</b> int64</label>"
            ]
          },
          "metadata": {},
          "execution_count": 6
        }
      ]
    },
    {
      "cell_type": "code",
      "source": [
        "# prompt: giải thích các cột selected_columns có ý nghĩa gì\n",
        "\n",
        "# Các cột được chọn và ý nghĩa của chúng:\n",
        "\n",
        "# 'loan_amnt': Số tiền vay ban đầu.\n",
        "# 'term': Thời hạn vay (thường là 36 tháng hoặc 60 tháng).\n",
        "# 'int_rate': Lãi suất vay.\n",
        "# 'installment': Số tiền trả hàng tháng.\n",
        "# 'grade': Xếp hạng tín dụng của người vay (ví dụ: A, B, C, ...).\n",
        "# 'sub_grade': Xếp hạng tín dụng phụ của người vay (ví dụ: A1, A2, A3, ...).\n",
        "# 'emp_length': Thời gian làm việc của người vay.\n",
        "# 'home_ownership': Tình trạng sở hữu nhà của người vay (ví dụ: Mua nhà, Thuê nhà, ...).\n",
        "# 'annual_inc': Thu nhập hàng năm của người vay.\n",
        "# 'verification_status': Trạng thái xác minh thu nhập của người vay (ví dụ: Xác minh, Không xác minh, ...).\n",
        "# 'purpose': Mục đích vay tiền (ví dụ: Vay mua xe, Vay sửa chữa nhà, ...).\n",
        "# 'dti': Tỷ lệ nợ trên thu nhập của người vay.\n",
        "# 'delinq_2yrs': Số lần người vay bị nợ quá hạn trong 2 năm qua.\n",
        "# 'inq_last_6mths': Số lần người vay yêu cầu kiểm tra tín dụng trong 6 tháng qua.\n",
        "# 'open_acc': Số tài khoản tín dụng đang hoạt động của người vay.\n",
        "# 'pub_rec': Số lượng hồ sơ công khai của người vay.\n",
        "# 'revol_bal': Số dư tín dụng quay vòng của người vay.\n",
        "# 'revol_util': Tỷ lệ sử dụng tín dụng quay vòng của người vay.\n",
        "# 'total_acc': Tổng số tài khoản tín dụng của người vay.\n",
        "# 'loan_status': Trạng thái vay (ví dụ: Đã thanh toán, Chưa thanh toán, ...).\n"
      ],
      "metadata": {
        "id": "OcoujaQhT7Lo"
      },
      "execution_count": null,
      "outputs": []
    },
    {
      "cell_type": "markdown",
      "source": [
        "Giới hạn bài toán:\n",
        "- Chỉ lấy các hồ sơ được đồng ý cho vay từ 1.1.2014 đến 31.12.2018\n",
        "- Chỉ lấy các hồ sơ của khách hàng có khoản vay đã được giải quyết hoặc gặp vấn đề"
      ],
      "metadata": {
        "id": "GprXoN0ETUwi"
      }
    },
    {
      "cell_type": "code",
      "source": [
        "# prompt: - Chỉ lấy các hồ sơ được đồng ý cho vay từ 1.1.2014 đến 31.12.2018\n",
        "# - Chỉ lấy các hồ sơ của khách hàng có khoản vay đã được giải quyết hoặc gặp vấn đề\n",
        "\n",
        "import pandas as pd\n",
        "# Chuyển đổi cột 'issue_d' thành kiểu datetime\n",
        "df['issue_d'] = pd.to_datetime(df['issue_d'], format='%b-%Y')\n",
        "\n",
        "# Lọc dữ liệu theo điều kiện\n",
        "df_filtered = df[\n",
        "    (df['issue_d'] >= '2014-01-01') &\n",
        "    (df['issue_d'] <= '2018-12-31') &\n",
        "    (df['loan_status'] != 'Current')\n",
        "]\n",
        "\n",
        "print(\"Dữ liệu sau khi lọc có\", df_filtered.shape)\n"
      ],
      "metadata": {
        "id": "u0cchJDjTT3b",
        "colab": {
          "base_uri": "https://localhost:8080/"
        },
        "outputId": "f7008a49-45bd-43fa-f6b1-4f39bff80de2"
      },
      "execution_count": 7,
      "outputs": [
        {
          "output_type": "stream",
          "name": "stdout",
          "text": [
            "Dữ liệu sau khi lọc có (1151641, 151)\n"
          ]
        }
      ]
    },
    {
      "cell_type": "code",
      "source": [
        "# prompt: Loan_amnt: số tiền cho vay\n",
        "# Term: kì hạn vay\n",
        "# Int_rate: lãi suất kì hạn\n",
        "# Dti: tỉ lệ nợ trên thu nhập\n",
        "# Loan_status: tình trạng khoản vay (không thể trả và đã trả được)\n",
        "# Pub_rec: số lượng hồ sơ công khai (tín dụng xấu, khởi kiện)\n",
        "# Application_type: bên vay (cá nhân/ tập thể)\n",
        "# fico_range_low: điểm tín dụng cao nhất của người vay\n",
        "# fico_range_high,\n",
        "# annual_inc, loan_status, total_acc lấy các cột đó\n",
        "\n",
        "# Select the desired columns\n",
        "selected_columns = ['loan_amnt', 'term', 'int_rate', 'dti', 'loan_status', 'pub_rec', 'application_type', 'fico_range_low', 'fico_range_high', 'annual_inc', 'total_acc']\n",
        "df_filtered = df_filtered[selected_columns]\n",
        "\n",
        "print(\"Dữ liệu sau khi chọn cột có\", df_filtered.shape)\n",
        "\n",
        "# Display the first few rows of the final DataFrame\n",
        "df_filtered.head()\n"
      ],
      "metadata": {
        "id": "Hm6giA5TWlFM",
        "colab": {
          "base_uri": "https://localhost:8080/",
          "height": 330
        },
        "outputId": "3a8f359f-77e8-4500-c703-adfa26440037"
      },
      "execution_count": 8,
      "outputs": [
        {
          "output_type": "stream",
          "name": "stdout",
          "text": [
            "Dữ liệu sau khi chọn cột có (1151641, 11)\n"
          ]
        },
        {
          "output_type": "execute_result",
          "data": {
            "text/plain": [
              "   loan_amnt        term  int_rate    dti loan_status  pub_rec  \\\n",
              "0     3600.0   36 months     13.99   5.91  Fully Paid      0.0   \n",
              "1    24700.0   36 months     11.99  16.06  Fully Paid      0.0   \n",
              "2    20000.0   60 months     10.78  10.78  Fully Paid      0.0   \n",
              "4    10400.0   60 months     22.45  25.37  Fully Paid      0.0   \n",
              "5    11950.0   36 months     13.44  10.20  Fully Paid      0.0   \n",
              "\n",
              "  application_type  fico_range_low  fico_range_high  annual_inc  total_acc  \n",
              "0       Individual           675.0            679.0     55000.0       13.0  \n",
              "1       Individual           715.0            719.0     65000.0       38.0  \n",
              "2        Joint App           695.0            699.0     63000.0       18.0  \n",
              "4       Individual           695.0            699.0    104433.0       35.0  \n",
              "5       Individual           690.0            694.0     34000.0        6.0  "
            ],
            "text/html": [
              "\n",
              "  <div id=\"df-a1674fc7-9c1d-4b26-ae3b-f4ead8544de7\" class=\"colab-df-container\">\n",
              "    <div>\n",
              "<style scoped>\n",
              "    .dataframe tbody tr th:only-of-type {\n",
              "        vertical-align: middle;\n",
              "    }\n",
              "\n",
              "    .dataframe tbody tr th {\n",
              "        vertical-align: top;\n",
              "    }\n",
              "\n",
              "    .dataframe thead th {\n",
              "        text-align: right;\n",
              "    }\n",
              "</style>\n",
              "<table border=\"1\" class=\"dataframe\">\n",
              "  <thead>\n",
              "    <tr style=\"text-align: right;\">\n",
              "      <th></th>\n",
              "      <th>loan_amnt</th>\n",
              "      <th>term</th>\n",
              "      <th>int_rate</th>\n",
              "      <th>dti</th>\n",
              "      <th>loan_status</th>\n",
              "      <th>pub_rec</th>\n",
              "      <th>application_type</th>\n",
              "      <th>fico_range_low</th>\n",
              "      <th>fico_range_high</th>\n",
              "      <th>annual_inc</th>\n",
              "      <th>total_acc</th>\n",
              "    </tr>\n",
              "  </thead>\n",
              "  <tbody>\n",
              "    <tr>\n",
              "      <th>0</th>\n",
              "      <td>3600.0</td>\n",
              "      <td>36 months</td>\n",
              "      <td>13.99</td>\n",
              "      <td>5.91</td>\n",
              "      <td>Fully Paid</td>\n",
              "      <td>0.0</td>\n",
              "      <td>Individual</td>\n",
              "      <td>675.0</td>\n",
              "      <td>679.0</td>\n",
              "      <td>55000.0</td>\n",
              "      <td>13.0</td>\n",
              "    </tr>\n",
              "    <tr>\n",
              "      <th>1</th>\n",
              "      <td>24700.0</td>\n",
              "      <td>36 months</td>\n",
              "      <td>11.99</td>\n",
              "      <td>16.06</td>\n",
              "      <td>Fully Paid</td>\n",
              "      <td>0.0</td>\n",
              "      <td>Individual</td>\n",
              "      <td>715.0</td>\n",
              "      <td>719.0</td>\n",
              "      <td>65000.0</td>\n",
              "      <td>38.0</td>\n",
              "    </tr>\n",
              "    <tr>\n",
              "      <th>2</th>\n",
              "      <td>20000.0</td>\n",
              "      <td>60 months</td>\n",
              "      <td>10.78</td>\n",
              "      <td>10.78</td>\n",
              "      <td>Fully Paid</td>\n",
              "      <td>0.0</td>\n",
              "      <td>Joint App</td>\n",
              "      <td>695.0</td>\n",
              "      <td>699.0</td>\n",
              "      <td>63000.0</td>\n",
              "      <td>18.0</td>\n",
              "    </tr>\n",
              "    <tr>\n",
              "      <th>4</th>\n",
              "      <td>10400.0</td>\n",
              "      <td>60 months</td>\n",
              "      <td>22.45</td>\n",
              "      <td>25.37</td>\n",
              "      <td>Fully Paid</td>\n",
              "      <td>0.0</td>\n",
              "      <td>Individual</td>\n",
              "      <td>695.0</td>\n",
              "      <td>699.0</td>\n",
              "      <td>104433.0</td>\n",
              "      <td>35.0</td>\n",
              "    </tr>\n",
              "    <tr>\n",
              "      <th>5</th>\n",
              "      <td>11950.0</td>\n",
              "      <td>36 months</td>\n",
              "      <td>13.44</td>\n",
              "      <td>10.20</td>\n",
              "      <td>Fully Paid</td>\n",
              "      <td>0.0</td>\n",
              "      <td>Individual</td>\n",
              "      <td>690.0</td>\n",
              "      <td>694.0</td>\n",
              "      <td>34000.0</td>\n",
              "      <td>6.0</td>\n",
              "    </tr>\n",
              "  </tbody>\n",
              "</table>\n",
              "</div>\n",
              "    <div class=\"colab-df-buttons\">\n",
              "\n",
              "  <div class=\"colab-df-container\">\n",
              "    <button class=\"colab-df-convert\" onclick=\"convertToInteractive('df-a1674fc7-9c1d-4b26-ae3b-f4ead8544de7')\"\n",
              "            title=\"Convert this dataframe to an interactive table.\"\n",
              "            style=\"display:none;\">\n",
              "\n",
              "  <svg xmlns=\"http://www.w3.org/2000/svg\" height=\"24px\" viewBox=\"0 -960 960 960\">\n",
              "    <path d=\"M120-120v-720h720v720H120Zm60-500h600v-160H180v160Zm220 220h160v-160H400v160Zm0 220h160v-160H400v160ZM180-400h160v-160H180v160Zm440 0h160v-160H620v160ZM180-180h160v-160H180v160Zm440 0h160v-160H620v160Z\"/>\n",
              "  </svg>\n",
              "    </button>\n",
              "\n",
              "  <style>\n",
              "    .colab-df-container {\n",
              "      display:flex;\n",
              "      gap: 12px;\n",
              "    }\n",
              "\n",
              "    .colab-df-convert {\n",
              "      background-color: #E8F0FE;\n",
              "      border: none;\n",
              "      border-radius: 50%;\n",
              "      cursor: pointer;\n",
              "      display: none;\n",
              "      fill: #1967D2;\n",
              "      height: 32px;\n",
              "      padding: 0 0 0 0;\n",
              "      width: 32px;\n",
              "    }\n",
              "\n",
              "    .colab-df-convert:hover {\n",
              "      background-color: #E2EBFA;\n",
              "      box-shadow: 0px 1px 2px rgba(60, 64, 67, 0.3), 0px 1px 3px 1px rgba(60, 64, 67, 0.15);\n",
              "      fill: #174EA6;\n",
              "    }\n",
              "\n",
              "    .colab-df-buttons div {\n",
              "      margin-bottom: 4px;\n",
              "    }\n",
              "\n",
              "    [theme=dark] .colab-df-convert {\n",
              "      background-color: #3B4455;\n",
              "      fill: #D2E3FC;\n",
              "    }\n",
              "\n",
              "    [theme=dark] .colab-df-convert:hover {\n",
              "      background-color: #434B5C;\n",
              "      box-shadow: 0px 1px 3px 1px rgba(0, 0, 0, 0.15);\n",
              "      filter: drop-shadow(0px 1px 2px rgba(0, 0, 0, 0.3));\n",
              "      fill: #FFFFFF;\n",
              "    }\n",
              "  </style>\n",
              "\n",
              "    <script>\n",
              "      const buttonEl =\n",
              "        document.querySelector('#df-a1674fc7-9c1d-4b26-ae3b-f4ead8544de7 button.colab-df-convert');\n",
              "      buttonEl.style.display =\n",
              "        google.colab.kernel.accessAllowed ? 'block' : 'none';\n",
              "\n",
              "      async function convertToInteractive(key) {\n",
              "        const element = document.querySelector('#df-a1674fc7-9c1d-4b26-ae3b-f4ead8544de7');\n",
              "        const dataTable =\n",
              "          await google.colab.kernel.invokeFunction('convertToInteractive',\n",
              "                                                    [key], {});\n",
              "        if (!dataTable) return;\n",
              "\n",
              "        const docLinkHtml = 'Like what you see? Visit the ' +\n",
              "          '<a target=\"_blank\" href=https://colab.research.google.com/notebooks/data_table.ipynb>data table notebook</a>'\n",
              "          + ' to learn more about interactive tables.';\n",
              "        element.innerHTML = '';\n",
              "        dataTable['output_type'] = 'display_data';\n",
              "        await google.colab.output.renderOutput(dataTable, element);\n",
              "        const docLink = document.createElement('div');\n",
              "        docLink.innerHTML = docLinkHtml;\n",
              "        element.appendChild(docLink);\n",
              "      }\n",
              "    </script>\n",
              "  </div>\n",
              "\n",
              "\n",
              "<div id=\"df-5c3fab63-9e9d-404f-b503-342f6a7b2c3b\">\n",
              "  <button class=\"colab-df-quickchart\" onclick=\"quickchart('df-5c3fab63-9e9d-404f-b503-342f6a7b2c3b')\"\n",
              "            title=\"Suggest charts\"\n",
              "            style=\"display:none;\">\n",
              "\n",
              "<svg xmlns=\"http://www.w3.org/2000/svg\" height=\"24px\"viewBox=\"0 0 24 24\"\n",
              "     width=\"24px\">\n",
              "    <g>\n",
              "        <path d=\"M19 3H5c-1.1 0-2 .9-2 2v14c0 1.1.9 2 2 2h14c1.1 0 2-.9 2-2V5c0-1.1-.9-2-2-2zM9 17H7v-7h2v7zm4 0h-2V7h2v10zm4 0h-2v-4h2v4z\"/>\n",
              "    </g>\n",
              "</svg>\n",
              "  </button>\n",
              "\n",
              "<style>\n",
              "  .colab-df-quickchart {\n",
              "      --bg-color: #E8F0FE;\n",
              "      --fill-color: #1967D2;\n",
              "      --hover-bg-color: #E2EBFA;\n",
              "      --hover-fill-color: #174EA6;\n",
              "      --disabled-fill-color: #AAA;\n",
              "      --disabled-bg-color: #DDD;\n",
              "  }\n",
              "\n",
              "  [theme=dark] .colab-df-quickchart {\n",
              "      --bg-color: #3B4455;\n",
              "      --fill-color: #D2E3FC;\n",
              "      --hover-bg-color: #434B5C;\n",
              "      --hover-fill-color: #FFFFFF;\n",
              "      --disabled-bg-color: #3B4455;\n",
              "      --disabled-fill-color: #666;\n",
              "  }\n",
              "\n",
              "  .colab-df-quickchart {\n",
              "    background-color: var(--bg-color);\n",
              "    border: none;\n",
              "    border-radius: 50%;\n",
              "    cursor: pointer;\n",
              "    display: none;\n",
              "    fill: var(--fill-color);\n",
              "    height: 32px;\n",
              "    padding: 0;\n",
              "    width: 32px;\n",
              "  }\n",
              "\n",
              "  .colab-df-quickchart:hover {\n",
              "    background-color: var(--hover-bg-color);\n",
              "    box-shadow: 0 1px 2px rgba(60, 64, 67, 0.3), 0 1px 3px 1px rgba(60, 64, 67, 0.15);\n",
              "    fill: var(--button-hover-fill-color);\n",
              "  }\n",
              "\n",
              "  .colab-df-quickchart-complete:disabled,\n",
              "  .colab-df-quickchart-complete:disabled:hover {\n",
              "    background-color: var(--disabled-bg-color);\n",
              "    fill: var(--disabled-fill-color);\n",
              "    box-shadow: none;\n",
              "  }\n",
              "\n",
              "  .colab-df-spinner {\n",
              "    border: 2px solid var(--fill-color);\n",
              "    border-color: transparent;\n",
              "    border-bottom-color: var(--fill-color);\n",
              "    animation:\n",
              "      spin 1s steps(1) infinite;\n",
              "  }\n",
              "\n",
              "  @keyframes spin {\n",
              "    0% {\n",
              "      border-color: transparent;\n",
              "      border-bottom-color: var(--fill-color);\n",
              "      border-left-color: var(--fill-color);\n",
              "    }\n",
              "    20% {\n",
              "      border-color: transparent;\n",
              "      border-left-color: var(--fill-color);\n",
              "      border-top-color: var(--fill-color);\n",
              "    }\n",
              "    30% {\n",
              "      border-color: transparent;\n",
              "      border-left-color: var(--fill-color);\n",
              "      border-top-color: var(--fill-color);\n",
              "      border-right-color: var(--fill-color);\n",
              "    }\n",
              "    40% {\n",
              "      border-color: transparent;\n",
              "      border-right-color: var(--fill-color);\n",
              "      border-top-color: var(--fill-color);\n",
              "    }\n",
              "    60% {\n",
              "      border-color: transparent;\n",
              "      border-right-color: var(--fill-color);\n",
              "    }\n",
              "    80% {\n",
              "      border-color: transparent;\n",
              "      border-right-color: var(--fill-color);\n",
              "      border-bottom-color: var(--fill-color);\n",
              "    }\n",
              "    90% {\n",
              "      border-color: transparent;\n",
              "      border-bottom-color: var(--fill-color);\n",
              "    }\n",
              "  }\n",
              "</style>\n",
              "\n",
              "  <script>\n",
              "    async function quickchart(key) {\n",
              "      const quickchartButtonEl =\n",
              "        document.querySelector('#' + key + ' button');\n",
              "      quickchartButtonEl.disabled = true;  // To prevent multiple clicks.\n",
              "      quickchartButtonEl.classList.add('colab-df-spinner');\n",
              "      try {\n",
              "        const charts = await google.colab.kernel.invokeFunction(\n",
              "            'suggestCharts', [key], {});\n",
              "      } catch (error) {\n",
              "        console.error('Error during call to suggestCharts:', error);\n",
              "      }\n",
              "      quickchartButtonEl.classList.remove('colab-df-spinner');\n",
              "      quickchartButtonEl.classList.add('colab-df-quickchart-complete');\n",
              "    }\n",
              "    (() => {\n",
              "      let quickchartButtonEl =\n",
              "        document.querySelector('#df-5c3fab63-9e9d-404f-b503-342f6a7b2c3b button');\n",
              "      quickchartButtonEl.style.display =\n",
              "        google.colab.kernel.accessAllowed ? 'block' : 'none';\n",
              "    })();\n",
              "  </script>\n",
              "</div>\n",
              "\n",
              "    </div>\n",
              "  </div>\n"
            ],
            "application/vnd.google.colaboratory.intrinsic+json": {
              "type": "dataframe",
              "variable_name": "df_filtered"
            }
          },
          "metadata": {},
          "execution_count": 8
        }
      ]
    },
    {
      "cell_type": "markdown",
      "source": [
        "Chuẩn hóa dl"
      ],
      "metadata": {
        "id": "gfll_xkF9N5_"
      }
    },
    {
      "cell_type": "code",
      "source": [
        " # bỏ đơn vị cột term\n",
        "df_filtered['term'] = df_filtered['term'].str.replace(' months', '')\n",
        "df_filtered['term'] = pd.to_numeric(df_filtered['term'])"
      ],
      "metadata": {
        "id": "-zg_FH9UXuFZ"
      },
      "execution_count": 9,
      "outputs": []
    },
    {
      "cell_type": "code",
      "source": [
        "# prompt: có mấy loại giá trị và những cái gì application_type\n",
        "\n",
        "print(df_filtered['application_type'].unique())\n",
        "print(df_filtered['application_type'].value_counts())\n"
      ],
      "metadata": {
        "colab": {
          "base_uri": "https://localhost:8080/"
        },
        "id": "j3oUdbgsCoy7",
        "outputId": "f3884c32-1fc1-4035-f374-1bdc1ac7c758"
      },
      "execution_count": 10,
      "outputs": [
        {
          "output_type": "stream",
          "name": "stdout",
          "text": [
            "['Individual' 'Joint App']\n",
            "application_type\n",
            "Individual    1122057\n",
            "Joint App       29584\n",
            "Name: count, dtype: int64\n"
          ]
        }
      ]
    },
    {
      "cell_type": "code",
      "source": [
        "# Application_type dùng One-hot encoding\n",
        "\n",
        "import pandas as pd\n",
        "# One-hot encode the 'application_type' column\n",
        "application_type_encoded = pd.get_dummies(df_filtered['application_type'], prefix='application_type')\n",
        "\n",
        "# Concatenate the encoded columns with the original DataFrame\n",
        "df_filtered = pd.concat([df_filtered, application_type_encoded], axis=1)\n",
        "\n",
        "# Drop the original 'application_type' column\n",
        "df_filtered.drop('application_type', axis=1, inplace=True)\n"
      ],
      "metadata": {
        "id": "ZOq4woMIZXkX"
      },
      "execution_count": 11,
      "outputs": []
    },
    {
      "cell_type": "code",
      "source": [
        "# Xử lý cột 'loan_status' thành giá trị nhị phân (tốt = 1, xấu = 0)\n",
        "good_status = ['Current', 'Fully Paid', 'In Grace Period', 'Does not meet the credit policy. Status:Fully Paid','Late (16-30 days)']\n",
        "df_filtered['loan_status'] = df_filtered['loan_status'].apply(lambda x: 1 if x in good_status else 0)"
      ],
      "metadata": {
        "id": "sr4ekp9qYBWt"
      },
      "execution_count": 12,
      "outputs": []
    },
    {
      "cell_type": "code",
      "source": [
        "df_filtered['loan_status'].value_counts()"
      ],
      "metadata": {
        "colab": {
          "base_uri": "https://localhost:8080/",
          "height": 178
        },
        "id": "bmc_lSTE_VM0",
        "outputId": "61e04042-f89b-42e7-b8e9-bf72efb210b6"
      },
      "execution_count": 13,
      "outputs": [
        {
          "output_type": "execute_result",
          "data": {
            "text/plain": [
              "loan_status\n",
              "1    896916\n",
              "0    254725\n",
              "Name: count, dtype: int64"
            ],
            "text/html": [
              "<div>\n",
              "<style scoped>\n",
              "    .dataframe tbody tr th:only-of-type {\n",
              "        vertical-align: middle;\n",
              "    }\n",
              "\n",
              "    .dataframe tbody tr th {\n",
              "        vertical-align: top;\n",
              "    }\n",
              "\n",
              "    .dataframe thead th {\n",
              "        text-align: right;\n",
              "    }\n",
              "</style>\n",
              "<table border=\"1\" class=\"dataframe\">\n",
              "  <thead>\n",
              "    <tr style=\"text-align: right;\">\n",
              "      <th></th>\n",
              "      <th>count</th>\n",
              "    </tr>\n",
              "    <tr>\n",
              "      <th>loan_status</th>\n",
              "      <th></th>\n",
              "    </tr>\n",
              "  </thead>\n",
              "  <tbody>\n",
              "    <tr>\n",
              "      <th>1</th>\n",
              "      <td>896916</td>\n",
              "    </tr>\n",
              "    <tr>\n",
              "      <th>0</th>\n",
              "      <td>254725</td>\n",
              "    </tr>\n",
              "  </tbody>\n",
              "</table>\n",
              "</div><br><label><b>dtype:</b> int64</label>"
            ]
          },
          "metadata": {},
          "execution_count": 13
        }
      ]
    },
    {
      "cell_type": "code",
      "source": [
        "# prompt: term có mấy loại giá trị và những cái gì\n",
        "from sklearn.preprocessing import LabelEncoder, OneHotEncoder, StandardScaler\n",
        "\n",
        "from sklearn.linear_model import LogisticRegression\n",
        "from sklearn.metrics import accuracy_score, confusion_matrix, classification_report\n",
        "\n",
        "print(df_filtered['term'].unique())\n",
        "print(df_filtered['term'].value_counts())\n"
      ],
      "metadata": {
        "id": "U2w6eNt_YuDq",
        "colab": {
          "base_uri": "https://localhost:8080/"
        },
        "outputId": "034e219b-fc5c-4b0e-896b-12189d0e06c3"
      },
      "execution_count": 14,
      "outputs": [
        {
          "output_type": "stream",
          "name": "stdout",
          "text": [
            "[36 60]\n",
            "term\n",
            "36    867633\n",
            "60    284008\n",
            "Name: count, dtype: int64\n"
          ]
        }
      ]
    },
    {
      "cell_type": "markdown",
      "source": [
        "Xử lý null"
      ],
      "metadata": {
        "id": "VXm9AK3i9fBJ"
      }
    },
    {
      "cell_type": "code",
      "source": [
        "#kiểm tra null\n",
        "\n",
        "# Check for null values in the DataFrame\n",
        "null_counts = df_filtered.isnull().sum()\n",
        "\n",
        "# Print the count of null values for each column\n",
        "print(null_counts)\n"
      ],
      "metadata": {
        "id": "Cr1hKgyKaQTP",
        "colab": {
          "base_uri": "https://localhost:8080/"
        },
        "outputId": "f103c9d7-9904-4815-fa9b-6b58dfbfa1f4"
      },
      "execution_count": 15,
      "outputs": [
        {
          "output_type": "stream",
          "name": "stdout",
          "text": [
            "loan_amnt                        0\n",
            "term                             0\n",
            "int_rate                         0\n",
            "dti                            412\n",
            "loan_status                      0\n",
            "pub_rec                          0\n",
            "fico_range_low                   0\n",
            "fico_range_high                  0\n",
            "annual_inc                       0\n",
            "total_acc                        0\n",
            "application_type_Individual      0\n",
            "application_type_Joint App       0\n",
            "dtype: int64\n"
          ]
        }
      ]
    },
    {
      "cell_type": "code",
      "source": [
        "# Loại bỏ null vì số lượng k đáng kể\n",
        "df_filtered.dropna(subset=['dti'], inplace=True)\n"
      ],
      "metadata": {
        "id": "fdGHmGuqbtta"
      },
      "execution_count": 16,
      "outputs": []
    },
    {
      "cell_type": "code",
      "source": [
        "# prompt: tính điểm fico trung bình\n",
        "\n",
        "# Calculate the average FICO score\n",
        "df_filtered['fico_avg'] = (df_filtered['fico_range_low'] + df_filtered['fico_range_high']) / 2\n",
        "\n",
        "# Drop the original FICO range columns\n",
        "df_filtered.drop(['fico_range_low', 'fico_range_high'], axis=1, inplace=True)\n",
        "\n"
      ],
      "metadata": {
        "id": "jeV6M-YXcK8U"
      },
      "execution_count": 17,
      "outputs": []
    },
    {
      "cell_type": "markdown",
      "source": [
        "Xây dựng mô hình"
      ],
      "metadata": {
        "id": "hRGc8id59IVq"
      }
    },
    {
      "cell_type": "code",
      "source": [
        "# prompt: biểu đồ xem loan_status của 1 và 0 thêm nhãn\n",
        "\n",
        "# Count the occurrences of each loan status\n",
        "loan_status_counts = df_filtered['loan_status'].value_counts()\n",
        "\n",
        "# Create a bar plot\n",
        "plt.figure(figsize=(8, 6))\n",
        "plt.bar(loan_status_counts.index, loan_status_counts.values)\n",
        "plt.xlabel(\"Loan Status (1: Good, 0: Bad)\")\n",
        "plt.ylabel(\"Number of Loans\")\n",
        "plt.title(\"Distribution of Loan Status\")\n",
        "plt.xticks(loan_status_counts.index)  # Set x-axis ticks to show both 0 and 1\n",
        "plt.show()\n"
      ],
      "metadata": {
        "id": "gUbuWAyRcawU",
        "colab": {
          "base_uri": "https://localhost:8080/",
          "height": 508
        },
        "outputId": "23a6705a-867a-4210-eaab-2890f8ecbc51"
      },
      "execution_count": 18,
      "outputs": [
        {
          "output_type": "display_data",
          "data": {
            "text/plain": [
              "<Figure size 800x600 with 1 Axes>"
            ],
            "image/png": "[encoded data removed]"
          },
          "metadata": {}
        }
      ]
    },
    {
      "cell_type": "code",
      "source": [
        "# prompt: vẽ biểu đồ tròn số lượng good (312f84) và bad (d13138 loan, chữ màu trắng, hiển thị đâu là good, đâu là bad,\n",
        "\n",
        "import matplotlib.pyplot as plt\n",
        "\n",
        "# Count the occurrences of each loan status\n",
        "loan_status_counts = df_filtered['loan_status'].value_counts()\n",
        "\n",
        "# Create a pie chart\n",
        "labels = ['Bad Loans', 'Good Loans']\n",
        "colors = ['#d13138', '#312f84']\n",
        "explode = (0.05, 0)  # Explode the first slice (Bad Loans)\n",
        "\n",
        "plt.figure(figsize=(8, 6))\n",
        "plt.pie(loan_status_counts, labels=labels, colors=colors, autopct='%1.1f%%', startangle=90, explode=explode, textprops={'color': \"w\"})\n",
        "plt.title(\"Distribution of Loan Status\")\n",
        "plt.show()\n"
      ],
      "metadata": {
        "colab": {
          "base_uri": "https://localhost:8080/",
          "height": 521
        },
        "id": "jxD5FJfEIini",
        "outputId": "da424a48-4538-42e7-cbc5-895c90630770"
      },
      "execution_count": 19,
      "outputs": [
        {
          "output_type": "display_data",
          "data": {
            "text/plain": [
              "<Figure size 800x600 with 1 Axes>"
            ],
            "image/png": "[encoded data removed]"
          },
          "metadata": {}
        }
      ]
    },
    {
      "cell_type": "code",
      "source": [
        "# prompt: 1. Tập dữ liệu xây dựng (Building Data) để xây dựng mô hình (70%)\n",
        "# # a. Tập huấn luyện (Training Set) to để huấn luyện mô hình\n",
        "# # (70 tập xây dựng )\n",
        "# # b. Tập kiểm tra (Testing/Validation Set) để chọn ra mô hình tốt nhất\n",
        "# # (15% tập xây dựng)\n",
        "# # 2. Tập kiểm tra lại (Backtest/Out-of-sample Set) để đánh giá kết quả\n",
        "# # mô hình được chọn (15%)\n",
        "\n",
        "# Split the data into building data and backtest data\n",
        "df_train, df_temp = train_test_split(df_filtered, test_size=0.3, random_state=42) # changed this line\n",
        "df_backtest, df_test = train_test_split(df_temp, test_size=0.5, random_state=42) # changed this line\n",
        "\n",
        "print('Kích thước tập huấn luyện: ', df_train.shape)\n",
        "print('Kích thước tập kiểm tra: ', df_test.shape)\n",
        "print('Kích thước tập kiểm tra lại: ',df_backtest.shape)"
      ],
      "metadata": {
        "colab": {
          "base_uri": "https://localhost:8080/"
        },
        "id": "YXC9gwqXERVU",
        "outputId": "f2efd770-3e3d-4b82-e0f7-f6f0c5ba6cd8"
      },
      "execution_count": 20,
      "outputs": [
        {
          "output_type": "stream",
          "name": "stdout",
          "text": [
            "Kích thước tập huấn luyện:  (805860, 11)\n",
            "Kích thước tập kiểm tra:  (172685, 11)\n",
            "Kích thước tập kiểm tra lại:  (172684, 11)\n"
          ]
        }
      ]
    },
    {
      "cell_type": "code",
      "source": [
        "df_train.value_counts('loan_status')"
      ],
      "metadata": {
        "colab": {
          "base_uri": "https://localhost:8080/",
          "height": 178
        },
        "id": "NC5Trm75S0WY",
        "outputId": "9b7107c4-6021-4284-a1f1-9def6ef288e7"
      },
      "execution_count": 21,
      "outputs": [
        {
          "output_type": "execute_result",
          "data": {
            "text/plain": [
              "loan_status\n",
              "1    627665\n",
              "0    178195\n",
              "Name: count, dtype: int64"
            ],
            "text/html": [
              "<div>\n",
              "<style scoped>\n",
              "    .dataframe tbody tr th:only-of-type {\n",
              "        vertical-align: middle;\n",
              "    }\n",
              "\n",
              "    .dataframe tbody tr th {\n",
              "        vertical-align: top;\n",
              "    }\n",
              "\n",
              "    .dataframe thead th {\n",
              "        text-align: right;\n",
              "    }\n",
              "</style>\n",
              "<table border=\"1\" class=\"dataframe\">\n",
              "  <thead>\n",
              "    <tr style=\"text-align: right;\">\n",
              "      <th></th>\n",
              "      <th>count</th>\n",
              "    </tr>\n",
              "    <tr>\n",
              "      <th>loan_status</th>\n",
              "      <th></th>\n",
              "    </tr>\n",
              "  </thead>\n",
              "  <tbody>\n",
              "    <tr>\n",
              "      <th>1</th>\n",
              "      <td>627665</td>\n",
              "    </tr>\n",
              "    <tr>\n",
              "      <th>0</th>\n",
              "      <td>178195</td>\n",
              "    </tr>\n",
              "  </tbody>\n",
              "</table>\n",
              "</div><br><label><b>dtype:</b> int64</label>"
            ]
          },
          "metadata": {},
          "execution_count": 21
        }
      ]
    },
    {
      "cell_type": "markdown",
      "source": [
        "###RandomUnderSampler"
      ],
      "metadata": {
        "id": "gpgV-3ktRf__"
      }
    },
    {
      "cell_type": "code",
      "source": [
        "from sklearn.model_selection import train_test_split\n",
        "\n",
        "# Chia dữ liệu với stratify để đảm bảo các lớp được phân phối đều\n",
        "X_train, X_temp, y_train, y_temp = train_test_split(df_filtered.drop('loan_status', axis=1),\n",
        "                                                    df_filtered['loan_status'],\n",
        "                                                    test_size=0.30,\n",
        "                                                    random_state=42,\n",
        "                                                    stratify=df_filtered['loan_status'])\n",
        "\n",
        "# Chia tiếp tập test và backtest\n",
        "X_test, X_backtest, y_test, y_backtest = train_test_split(X_temp, y_temp,\n",
        "                                                          test_size=0.50,\n",
        "                                                          random_state=42,\n",
        "                                                          stratify=y_temp)\n",
        "\n",
        "# Kiểm tra lại phân phối của y_train\n",
        "print(\"Phân phối lớp trong y_train:\")\n",
        "print(y_train.value_counts())\n",
        "\n",
        "# Kiểm tra phân phối trong y_test và y_backtest\n",
        "print(\"\\nPhân phối lớp trong y_test:\")\n",
        "print(y_test.value_counts())\n",
        "\n",
        "print(\"\\nPhân phối lớp trong y_backtest:\")\n",
        "print(y_backtest.value_counts())\n"
      ],
      "metadata": {
        "colab": {
          "base_uri": "https://localhost:8080/"
        },
        "id": "v6K7PM5CSCyz",
        "outputId": "95418a6c-42c0-419c-bba2-cba8032bf1e3"
      },
      "execution_count": 22,
      "outputs": [
        {
          "output_type": "stream",
          "name": "stdout",
          "text": [
            "Phân phối lớp trong y_train:\n",
            "loan_status\n",
            "1    627619\n",
            "0    178241\n",
            "Name: count, dtype: int64\n",
            "\n",
            "Phân phối lớp trong y_test:\n",
            "loan_status\n",
            "1    134490\n",
            "0     38194\n",
            "Name: count, dtype: int64\n",
            "\n",
            "Phân phối lớp trong y_backtest:\n",
            "loan_status\n",
            "1    134490\n",
            "0     38195\n",
            "Name: count, dtype: int64\n"
          ]
        }
      ]
    },
    {
      "cell_type": "code",
      "source": [
        "from imblearn.under_sampling import RandomUnderSampler\n",
        "import pandas as pd\n",
        "\n",
        "X_train = df_train.drop('loan_status', axis=1)\n",
        "y_train = df_train['loan_status']\n",
        "X_test = df_test.drop('loan_status', axis=1)\n",
        "y_test = df_test['loan_status']\n",
        "\n",
        "# Giả sử loan_status là biến mục tiêu, và X_train, y_train là các tập huấn luyện đã chia\n",
        "print(\"Trước khi Under-sampling:\")\n",
        "print(y_train.value_counts())\n",
        "\n",
        "# Tạo bộ RandomUnderSampler\n",
        "rus = RandomUnderSampler(random_state=42)\n",
        "\n",
        "# Áp dụng Under-sampling trên X_train và y_train\n",
        "X_train_res, y_train_res = rus.fit_resample(X_train, y_train)\n",
        "\n",
        "# Hiển thị số lượng mẫu sau khi Under-sampling\n",
        "print(\"Sau khi Under-sampling:\")\n",
        "print(pd.Series(y_train_res).value_counts())\n"
      ],
      "metadata": {
        "colab": {
          "base_uri": "https://localhost:8080/"
        },
        "id": "Ok_1Tz5nRmLF",
        "outputId": "5e56b527-834f-4fce-b9e0-b5fe74f6db44"
      },
      "execution_count": 23,
      "outputs": [
        {
          "output_type": "stream",
          "name": "stdout",
          "text": [
            "Trước khi Under-sampling:\n",
            "loan_status\n",
            "1    627665\n",
            "0    178195\n",
            "Name: count, dtype: int64\n",
            "Sau khi Under-sampling:\n",
            "loan_status\n",
            "0    178195\n",
            "1    178195\n",
            "Name: count, dtype: int64\n"
          ]
        }
      ]
    },
    {
      "cell_type": "markdown",
      "source": [
        "## Huấn luyện mô hình"
      ],
      "metadata": {
        "id": "HNKPwhoiBZqM"
      }
    },
    {
      "cell_type": "code",
      "source": [
        "# prompt: Huấn luyện mô hình\n",
        "\n",
        "from sklearn.linear_model import LogisticRegression\n",
        "\n",
        "# Separate features (X) and target variable (y)\n",
        "X_train = df_train.drop('loan_status', axis=1)\n",
        "y_train = df_train['loan_status']\n",
        "X_test = df_test.drop('loan_status', axis=1)\n",
        "y_test = df_test['loan_status']\n",
        "\n",
        "# Initialize the Logistic Regression model\n",
        "model = LogisticRegression(max_iter=1000)\n",
        "\n",
        "# Train the model\n",
        "model.fit(X_train, y_train)\n"
      ],
      "metadata": {
        "id": "HQBJxak9gkcw",
        "colab": {
          "base_uri": "https://localhost:8080/",
          "height": 74
        },
        "outputId": "8a0c75df-0144-4841-afde-16a46cb1de04"
      },
      "execution_count": 37,
      "outputs": [
        {
          "output_type": "execute_result",
          "data": {
            "text/plain": [
              "LogisticRegression(max_iter=1000)"
            ],
            "text/html": [
              "<style>#sk-container-id-2 {color: black;}#sk-container-id-2 pre{padding: 0;}#sk-container-id-2 div.sk-toggleable {background-color: white;}#sk-container-id-2 label.sk-toggleable__label {cursor: pointer;display: block;width: 100%;margin-bottom: 0;padding: 0.3em;box-sizing: border-box;text-align: center;}#sk-container-id-2 label.sk-toggleable__label-arrow:before {content: \"▸\";float: left;margin-right: 0.25em;color: #696969;}#sk-container-id-2 label.sk-toggleable__label-arrow:hover:before {color: black;}#sk-container-id-2 div.sk-estimator:hover label.sk-toggleable__label-arrow:before {color: black;}#sk-container-id-2 div.sk-toggleable__content {max-height: 0;max-width: 0;overflow: hidden;text-align: left;background-color: #f0f8ff;}#sk-container-id-2 div.sk-toggleable__content pre {margin: 0.2em;color: black;border-radius: 0.25em;background-color: #f0f8ff;}#sk-container-id-2 input.sk-toggleable__control:checked~div.sk-toggleable__content {max-height: 200px;max-width: 100%;overflow: auto;}#sk-container-id-2 input.sk-toggleable__control:checked~label.sk-toggleable__label-arrow:before {content: \"▾\";}#sk-container-id-2 div.sk-estimator input.sk-toggleable__control:checked~label.sk-toggleable__label {background-color: #d4ebff;}#sk-container-id-2 div.sk-label input.sk-toggleable__control:checked~label.sk-toggleable__label {background-color: #d4ebff;}#sk-container-id-2 input.sk-hidden--visually {border: 0;clip: rect(1px 1px 1px 1px);clip: rect(1px, 1px, 1px, 1px);height: 1px;margin: -1px;overflow: hidden;padding: 0;position: absolute;width: 1px;}#sk-container-id-2 div.sk-estimator {font-family: monospace;background-color: #f0f8ff;border: 1px dotted black;border-radius: 0.25em;box-sizing: border-box;margin-bottom: 0.5em;}#sk-container-id-2 div.sk-estimator:hover {background-color: #d4ebff;}#sk-container-id-2 div.sk-parallel-item::after {content: \"\";width: 100%;border-bottom: 1px solid gray;flex-grow: 1;}#sk-container-id-2 div.sk-label:hover label.sk-toggleable__label {background-color: #d4ebff;}#sk-container-id-2 div.sk-serial::before {content: \"\";position: absolute;border-left: 1px solid gray;box-sizing: border-box;top: 0;bottom: 0;left: 50%;z-index: 0;}#sk-container-id-2 div.sk-serial {display: flex;flex-direction: column;align-items: center;background-color: white;padding-right: 0.2em;padding-left: 0.2em;position: relative;}#sk-container-id-2 div.sk-item {position: relative;z-index: 1;}#sk-container-id-2 div.sk-parallel {display: flex;align-items: stretch;justify-content: center;background-color: white;position: relative;}#sk-container-id-2 div.sk-item::before, #sk-container-id-2 div.sk-parallel-item::before {content: \"\";position: absolute;border-left: 1px solid gray;box-sizing: border-box;top: 0;bottom: 0;left: 50%;z-index: -1;}#sk-container-id-2 div.sk-parallel-item {display: flex;flex-direction: column;z-index: 1;position: relative;background-color: white;}#sk-container-id-2 div.sk-parallel-item:first-child::after {align-self: flex-end;width: 50%;}#sk-container-id-2 div.sk-parallel-item:last-child::after {align-self: flex-start;width: 50%;}#sk-container-id-2 div.sk-parallel-item:only-child::after {width: 0;}#sk-container-id-2 div.sk-dashed-wrapped {border: 1px dashed gray;margin: 0 0.4em 0.5em 0.4em;box-sizing: border-box;padding-bottom: 0.4em;background-color: white;}#sk-container-id-2 div.sk-label label {font-family: monospace;font-weight: bold;display: inline-block;line-height: 1.2em;}#sk-container-id-2 div.sk-label-container {text-align: center;}#sk-container-id-2 div.sk-container {/* jupyter's `normalize.less` sets `[hidden] { display: none; }` but bootstrap.min.css set `[hidden] { display: none !important; }` so we also need the `!important` here to be able to override the default hidden behavior on the sphinx rendered scikit-learn.org. See: https://github.com/scikit-learn/scikit-learn/issues/21755 */display: inline-block !important;position: relative;}#sk-container-id-2 div.sk-text-repr-fallback {display: none;}</style><div id=\"sk-container-id-2\" class=\"sk-top-container\"><div class=\"sk-text-repr-fallback\"><pre>LogisticRegression(max_iter=1000)</pre><b>In a Jupyter environment, please rerun this cell to show the HTML representation or trust the notebook. <br />On GitHub, the HTML representation is unable to render, please try loading this page with nbviewer.org.</b></div><div class=\"sk-container\" hidden><div class=\"sk-item\"><div class=\"sk-estimator sk-toggleable\"><input class=\"sk-toggleable__control sk-hidden--visually\" id=\"sk-estimator-id-2\" type=\"checkbox\" checked><label for=\"sk-estimator-id-2\" class=\"sk-toggleable__label sk-toggleable__label-arrow\">LogisticRegression</label><div class=\"sk-toggleable__content\"><pre>LogisticRegression(max_iter=1000)</pre></div></div></div></div></div>"
            ]
          },
          "metadata": {},
          "execution_count": 37
        }
      ]
    },
    {
      "cell_type": "code",
      "source": [
        "# Make predictions on the test set\n",
        "y_pred = model.predict(X_test)\n",
        "\n",
        "# Evaluate the model\n",
        "accuracy = accuracy_score(y_test, y_pred)\n",
        "print(\"Accuracy:\", accuracy)\n",
        "from sklearn.metrics import precision_score, recall_score, f1_score, roc_auc_score\n",
        "\n",
        "# Calculate precision, recall, F1-score, and AUC\n",
        "precision = precision_score(y_test, y_pred)\n",
        "recall = recall_score(y_test, y_pred)\n",
        "f1 = f1_score(y_test, y_pred)\n",
        "auc = roc_auc_score(y_test, y_pred)\n",
        "\n",
        "print(\"Precision:\", precision)\n",
        "print(\"Recall:\", recall)\n",
        "print(\"F1-Score:\", f1)\n",
        "print(\"AUC:\", auc)\n",
        "# Confusion matrix\n",
        "cm = confusion_matrix(y_test, y_pred)\n",
        "print(\"Confusion Matrix:\\n\", cm)\n",
        "\n",
        "# Classification report\n",
        "print(\"Classification Report:\\n\", classification_report(y_test, y_pred))\n"
      ],
      "metadata": {
        "id": "rARBok0lHBm9",
        "colab": {
          "base_uri": "https://localhost:8080/"
        },
        "outputId": "0f810a9a-670a-4fd0-a6f3-4cce4937ded6"
      },
      "execution_count": 66,
      "outputs": [
        {
          "output_type": "stream",
          "name": "stdout",
          "text": [
            "Accuracy: 0.7799229811506501\n",
            "Precision: 0.7906822684870128\n",
            "Recall: 0.9758657340994061\n",
            "F1-Score: 0.8735678070980878\n",
            "AUC: 0.5323543004896444\n",
            "Confusion Matrix:\n",
            " [[  3389  34757]\n",
            " [  3247 131292]]\n",
            "Classification Report:\n",
            "               precision    recall  f1-score   support\n",
            "\n",
            "           0       0.51      0.09      0.15     38146\n",
            "           1       0.79      0.98      0.87    134539\n",
            "\n",
            "    accuracy                           0.78    172685\n",
            "   macro avg       0.65      0.53      0.51    172685\n",
            "weighted avg       0.73      0.78      0.71    172685\n",
            "\n"
          ]
        }
      ]
    },
    {
      "cell_type": "code",
      "source": [
        "# prompt: in ra precision, recall, f1 score, auc\n",
        "\n",
        "\n"
      ],
      "metadata": {
        "colab": {
          "base_uri": "https://localhost:8080/"
        },
        "id": "ExARZcSRCrN0",
        "outputId": "29ffed68-7af7-4708-83eb-c808945caf12"
      },
      "execution_count": 39,
      "outputs": [
        {
          "output_type": "stream",
          "name": "stdout",
          "text": [
            "Precision: 0.7906822684870128\n",
            "Recall: 0.9758657340994061\n",
            "F1-Score: 0.8735678070980878\n",
            "AUC: 0.5323543004896444\n"
          ]
        }
      ]
    },
    {
      "cell_type": "code",
      "source": [
        "# Giải thích Confusion Matrix\n",
        "cm = confusion_matrix(y_test, y_pred)\n",
        "print(\"Confusion Matrix:\\n\", cm)\n",
        "\n",
        "TN, FP, FN, TP = cm.ravel()\n",
        "\n",
        "accuracy = (TP + TN) / (TP + TN + FP + FN)\n",
        "precision = TP / (TP + FP)\n",
        "recall = TP / (TP + FN)\n",
        "f1_score = 2 * (precision * recall) / (precision + recall)\n",
        "\n",
        "print(f\"Accuracy: {accuracy:.2%}\")\n",
        "print(f\"Precision: {precision:.2%}\")\n",
        "print(f\"Recall: {recall:.2%}\")\n",
        "print(f\"F1-Score: {f1_score:.2%}\")\n",
        "\n",
        "print(\"\\nGiải thích Confusion Matrix:\")\n",
        "print(f\"- True Negative (TN): {TN} - Số lượng khách hàng được dự đoán là không trả được nợ và thực tế là không trả được nợ.\")\n",
        "print(f\"- False Positive (FP): {FP} - Số lượng khách hàng được dự đoán là trả được nợ nhưng thực tế là không trả được nợ.\")\n",
        "print(f\"- False Negative (FN): {FN} - Số lượng khách hàng được dự đoán là không trả được nợ nhưng thực tế là trả được nợ.\")\n",
        "print(f\"- True Positive (TP): {TP} - Số lượng khách hàng được dự đoán là trả được nợ và thực tế là trả được nợ.\")\n",
        "\n",
        "print(\"\\nKết luận:\")\n",
        "print(\"- Accuracy: Tỷ lệ dự đoán chính xác tổng thể của mô hình.\")\n",
        "print(\"- Precision: Tỷ lệ dự đoán trả được nợ chính xác trong số các khách hàng được dự đoán là trả được nợ.\")\n",
        "print(\"- Recall: Tỷ lệ dự đoán trả được nợ chính xác trong số các khách hàng thực tế trả được nợ.\")\n",
        "print(\"- F1-Score: Trung bình điều hòa giữa Precision và Recall.\")\n"
      ],
      "metadata": {
        "colab": {
          "base_uri": "https://localhost:8080/"
        },
        "id": "O4L73AWAB_Ur",
        "outputId": "c3b884ae-e088-45fa-cd2e-5f2007a56a5c"
      },
      "execution_count": 41,
      "outputs": [
        {
          "output_type": "stream",
          "name": "stdout",
          "text": [
            "Confusion Matrix:\n",
            " [[  3389  34757]\n",
            " [  3247 131292]]\n",
            "Accuracy: 77.99%\n",
            "Precision: 79.07%\n",
            "Recall: 97.59%\n",
            "F1-Score: 87.36%\n",
            "\n",
            "Giải thích Confusion Matrix:\n",
            "- True Negative (TN): 3389 - Số lượng khách hàng được dự đoán là không trả được nợ và thực tế là không trả được nợ.\n",
            "- False Positive (FP): 34757 - Số lượng khách hàng được dự đoán là trả được nợ nhưng thực tế là không trả được nợ.\n",
            "- False Negative (FN): 3247 - Số lượng khách hàng được dự đoán là không trả được nợ nhưng thực tế là trả được nợ.\n",
            "- True Positive (TP): 131292 - Số lượng khách hàng được dự đoán là trả được nợ và thực tế là trả được nợ.\n",
            "\n",
            "Kết luận:\n",
            "- Accuracy: Tỷ lệ dự đoán chính xác tổng thể của mô hình.\n",
            "- Precision: Tỷ lệ dự đoán trả được nợ chính xác trong số các khách hàng được dự đoán là trả được nợ.\n",
            "- Recall: Tỷ lệ dự đoán trả được nợ chính xác trong số các khách hàng thực tế trả được nợ.\n",
            "- F1-Score: Trung bình điều hòa giữa Precision và Recall.\n"
          ]
        }
      ]
    },
    {
      "cell_type": "code",
      "source": [
        "print(f\"Accuracy: {accuracy}\")\n",
        "print(f\"Precision: {precision}\")\n",
        "print(f\"Recall: {recall}\")\n",
        "print(f\"F1-Score: {f1_score}\")"
      ],
      "metadata": {
        "colab": {
          "base_uri": "https://localhost:8080/"
        },
        "id": "s0b2sXr3Dnn8",
        "outputId": "d13775af-56d7-4651-f1a0-816ea5906516"
      },
      "execution_count": 48,
      "outputs": [
        {
          "output_type": "stream",
          "name": "stdout",
          "text": [
            "Accuracy: 0.7799229811506501\n",
            "Precision: 0.7906822684870128\n",
            "Recall: 0.9758657340994061\n",
            "F1-Score: 0.8735678070980878\n"
          ]
        }
      ]
    },
    {
      "cell_type": "code",
      "source": [
        "# prompt: tính % của từng TN, FP, FN, TP\n",
        "\n",
        "TN, FP, FN, TP = cm.ravel()\n",
        "\n",
        "total_samples = TN + FP + FN + TP\n",
        "\n",
        "TN_percentage = (TN / total_samples) * 100\n",
        "FP_percentage = (FP / total_samples) * 100\n",
        "FN_percentage = (FN / total_samples) * 100\n",
        "TP_percentage = (TP / total_samples) * 100\n",
        "\n",
        "print(f\"TN Percentage: {TN_percentage:.2f}%\")\n",
        "print(f\"FP Percentage: {FP_percentage:.2f}%\")\n",
        "print(f\"FN Percentage: {FN_percentage:.2f}%\")\n",
        "print(f\"TP Percentage: {TP_percentage:.2f}%\")\n"
      ],
      "metadata": {
        "colab": {
          "base_uri": "https://localhost:8080/"
        },
        "id": "1nTdMxJ7COA7",
        "outputId": "9a344caf-3e00-435b-a727-23986647fd4a"
      },
      "execution_count": 42,
      "outputs": [
        {
          "output_type": "stream",
          "name": "stdout",
          "text": [
            "TN Percentage: 1.96%\n",
            "FP Percentage: 20.13%\n",
            "FN Percentage: 1.88%\n",
            "TP Percentage: 76.03%\n"
          ]
        }
      ]
    },
    {
      "cell_type": "code",
      "source": [
        "# prompt: thế df_backtest để làm gì?\n",
        "\n",
        "# df_backtest được sử dụng để kiểm tra lại hiệu quả của mô hình đã được huấn luyện trên tập dữ liệu xây dựng (df_building).\n",
        "# Nó giúp đánh giá khả năng tổng quát hóa của mô hình trên dữ liệu mới, độc lập với tập huấn luyện và tập kiểm tra.\n",
        "# Việc này giúp đảm bảo rằng mô hình không bị overfitting (quá khớp) với dữ liệu huấn luyện và có thể dự đoán chính xác trên dữ liệu chưa từng gặp trước đây.\n"
      ],
      "metadata": {
        "id": "GRJt38YYg5ez"
      },
      "execution_count": null,
      "outputs": []
    },
    {
      "cell_type": "code",
      "source": [
        "# prompt: ma trận nhầm lẫn\n",
        "\n",
        "# Calculate the confusion matrix\n",
        "cm = confusion_matrix(y_test, y_pred)\n",
        "\n",
        "# Print the confusion matrix\n",
        "print(\"Confusion Matrix:\")\n",
        "print(cm)\n"
      ],
      "metadata": {
        "colab": {
          "base_uri": "https://localhost:8080/"
        },
        "id": "Bd1kC9E901xc",
        "outputId": "a5260180-ee07-45ea-a61e-0cbc989a23a9"
      },
      "execution_count": 43,
      "outputs": [
        {
          "output_type": "stream",
          "name": "stdout",
          "text": [
            "Confusion Matrix:\n",
            "[[  3389  34757]\n",
            " [  3247 131292]]\n"
          ]
        }
      ]
    },
    {
      "cell_type": "code",
      "source": [
        "\n",
        "import matplotlib.pyplot as plt\n",
        "import numpy as np\n",
        "\n",
        "conf_matrix_new = confusion_matrix(y_test, y_pred)\n",
        "\n",
        "# Vẽ confusion matrix\n",
        "fig, ax = plt.subplots(figsize=(8, 6))\n",
        "im = ax.imshow(cm, interpolation='nearest', cmap=plt.cm.Blues)\n",
        "ax.figure.colorbar(im, ax=ax)\n",
        "ax.set(xticks=np.arange(cm.shape[1]),\n",
        "       yticks=np.arange(cm.shape[0]),\n",
        "       xticklabels=['Không Trả Được Nợ', 'Trả Được Nợ'],  # Đổi tên nhãn của trục X\n",
        "       yticklabels=['Không Trả Được Nợ', 'Trả Được Nợ'],  # Đổi tên nhãn của trục Y\n",
        "       title='Confusion Matrix',\n",
        "       ylabel='Thực Tế',\n",
        "       xlabel='Dự Đoán')\n",
        "\n",
        "# Hiển thị giá trị trên các ô của confusion matrix\n",
        "for i in range(cm.shape[0]):\n",
        "    for j in range(cm.shape[1]):\n",
        "        text = ax.text(j, i, cm[i, j],\n",
        "                       ha=\"center\", va=\"center\", color=\"white\" if cm[i, j] > cm.max() / 2 else \"black\")\n",
        "\n",
        "plt.show()\n"
      ],
      "metadata": {
        "id": "1fB4Y48VhbXc",
        "colab": {
          "base_uri": "https://localhost:8080/",
          "height": 484
        },
        "outputId": "714775f9-e39d-4c6d-a395-34252f4a2214"
      },
      "execution_count": 44,
      "outputs": [
        {
          "output_type": "display_data",
          "data": {
            "text/plain": [
              "<Figure size 800x600 with 2 Axes>"
            ],
            "image/png": "[encoded data removed]"
          },
          "metadata": {}
        }
      ]
    },
    {
      "cell_type": "code",
      "source": [],
      "metadata": {
        "id": "vME_dS36NU_P"
      },
      "execution_count": null,
      "outputs": []
    },
    {
      "cell_type": "code",
      "source": [
        "# prompt: # prompt: hãy đọc kết quả từ ma trận nhầm lẫn và đưa ra nhận xét\n",
        "\n",
        "# Đọc kết quả từ ma trận nhầm lẫn\n",
        "conf_matrix = confusion_matrix(y_test, y_pred)\n",
        "tn, fp, fn, tp = conf_matrix.ravel()\n",
        "\n",
        "# In ra các giá trị của ma trận nhầm lẫn\n",
        "print(f\"True Negative (TN): {tn}\")\n",
        "print(f\"False Positive (FP): {fp}\")\n",
        "print(f\"False Negative (FN): {fn}\")\n",
        "print(f\"True Positive (TP): {tp}\")\n"
      ],
      "metadata": {
        "id": "65Xb5tehkXk-",
        "colab": {
          "base_uri": "https://localhost:8080/"
        },
        "outputId": "0a42359b-d731-41de-8c73-f14d8b7cdca8"
      },
      "execution_count": 46,
      "outputs": [
        {
          "output_type": "stream",
          "name": "stdout",
          "text": [
            "True Negative (TN): 3389\n",
            "False Positive (FP): 34757\n",
            "False Negative (FN): 3247\n",
            "True Positive (TP): 131292\n"
          ]
        }
      ]
    },
    {
      "cell_type": "code",
      "source": [
        "# prompt: vẽ ROC\n",
        "\n",
        "from sklearn.metrics import roc_curve, auc\n",
        "import matplotlib.pyplot as plt\n",
        "\n",
        "# Assuming you have y_test and y_pred_proba from your previous code\n",
        "y_pred_proba = model.predict_proba(X_test)[:, 1]\n",
        "\n",
        "# Calculate the ROC curve\n",
        "fpr, tpr, thresholds = roc_curve(y_test, y_pred_proba)\n",
        "\n",
        "# Calculate the AUC\n",
        "roc_auc = auc(fpr, tpr)\n",
        "\n",
        "# Plot the ROC curve\n",
        "plt.figure()\n",
        "plt.plot(fpr, tpr, color='darkorange', lw=2, label='ROC curve (area = %0.2f)' % roc_auc)\n",
        "plt.plot([0, 1], [0, 1], color='navy', lw=2, linestyle='--')\n",
        "plt.xlim([0.0, 1.0])\n",
        "plt.ylim([0.0, 1.05])\n",
        "plt.xlabel('False Positive Rate')\n",
        "plt.ylabel('True Positive Rate')\n",
        "plt.title('Receiver Operating Characteristic (ROC) Curve')\n",
        "plt.legend(loc=\"lower right\")\n",
        "plt.show()\n"
      ],
      "metadata": {
        "colab": {
          "base_uri": "https://localhost:8080/",
          "height": 472
        },
        "id": "JPfKZJTRDVO7",
        "outputId": "4d994d6c-c45b-4b03-fbc8-1057fba797a1"
      },
      "execution_count": 47,
      "outputs": [
        {
          "output_type": "display_data",
          "data": {
            "text/plain": [
              "<Figure size 640x480 with 1 Axes>"
            ],
            "image/png": "[encoded data removed]"
          },
          "metadata": {}
        }
      ]
    },
    {
      "cell_type": "code",
      "source": [
        "# prompt: vẽ biểu đồ tỷ lệ 1 và 0 bằng biểu đồ tròn sau khi đã undersample\n",
        "\n",
        "# Count the occurrences of each loan status in y_train_res\n",
        "loan_status_counts_res = pd.Series(y_train_res).value_counts()\n",
        "\n",
        "# Create a pie chart\n",
        "labels = ['Bad Loans', 'Good Loans']\n",
        "colors = ['#d13138', '#312f84']\n",
        "explode = (0.05, 0)  # Explode the first slice (Bad Loans)\n",
        "\n",
        "plt.figure(figsize=(8, 6))\n",
        "plt.pie(loan_status_counts_res, labels=labels, colors=colors, autopct='%1.1f%%', startangle=90, explode=explode, textprops={'color': \"w\"})\n",
        "plt.title(\"Distribution of Loan Status After Undersampling\")\n",
        "plt.show()\n"
      ],
      "metadata": {
        "colab": {
          "base_uri": "https://localhost:8080/",
          "height": 521
        },
        "id": "lvPTPBFx-AJQ",
        "outputId": "e22c1b97-2cd5-40e0-b5c3-606a24735271"
      },
      "execution_count": 50,
      "outputs": [
        {
          "output_type": "display_data",
          "data": {
            "text/plain": [
              "<Figure size 800x600 with 1 Axes>"
            ],
            "image/png": "[encoded data removed]"
          },
          "metadata": {}
        }
      ]
    },
    {
      "cell_type": "code",
      "source": [
        "# # prompt:  tại sao chọn Random Under-Sampling\n",
        "\n",
        "# # Random Under-Sampling được chọn để giải quyết vấn đề mất cân bằng dữ liệu.\n",
        "# # Trong tập dữ liệu này, số lượng khoản vay trả đúng hạn nhiều hơn số lượng khoản vay không trả đúng hạn.\n",
        "# # Việc sử dụng Random Under-Sampling giúp giảm số lượng khoản vay trả đúng hạn xuống gần bằng với số lượng khoản vay không trả đúng hạn,\n",
        "# # từ đó giúp mô hình học được tốt hơn về các đặc điểm của khoản vay không trả đúng hạn và cải thiện độ chính xác của mô hình.\n",
        "# Khi dữ liệu không cân bằng và kích thước tập dữ liệu lớn: Nếu bạn có rất nhiều mẫu từ lớp đa số, undersampling có thể hiệu quả. Bạn sẽ giảm bớt số lượng mẫu của lớp đa số để cân bằng với lớp thiểu số.\n",
        "# Đảm bảo thời gian huấn luyện: Undersampling giúp giảm kích thước tập dữ liệu, nhờ đó giảm thời gian huấn luyện mô hình."
      ],
      "metadata": {
        "id": "9EE_W7U05AVG"
      },
      "execution_count": null,
      "outputs": []
    },
    {
      "cell_type": "code",
      "source": [
        "# prompt: kiểm tra mô hình với tập df_test và df_backtest\n",
        "\n",
        "from sklearn.metrics import accuracy_score, precision_score, recall_score, f1_score, roc_auc_score, confusion_matrix\n",
        "\n",
        "# Kiểm tra mô hình với tập df_test\n",
        "X_test = df_test.drop('loan_status', axis=1)\n",
        "y_test = df_test['loan_status']\n",
        "y_pred_test = model.predict(X_test)\n",
        "\n",
        "print(\"\\n-------Kết quả kiểm tra với testing set:----------\\n\")\n",
        "target_names = ['Không trả được nợ', 'Trả được nợ']\n",
        "print(classification_report(y_test, y_pred_test, target_names= target_names))\n",
        "print(\"Accuracy (test):\", accuracy_score(y_test, y_pred_test))\n",
        "print(\"Precision (test):\", precision_score(y_test, y_pred_test))\n",
        "print(\"Recall (test):\", recall_score(y_test, y_pred_test))\n",
        "print(\"F1-score (test):\", f1_score(y_test, y_pred_test)) # Call the f1_score function from sklearn.metrics\n",
        "print(\"AUC (test):\", roc_auc_score(y_test, model.predict_proba(X_test)[:, 1]))\n",
        "print(\"Confusion Matrix (test):\")\n",
        "print(confusion_matrix(y_test, y_pred_test))\n",
        "\n",
        "# Kiểm tra mô hình với tập df_backtest\n",
        "X_backtest = df_backtest.drop('loan_status', axis=1)\n",
        "y_backtest = df_backtest['loan_status']\n",
        "y_pred_backtest = model.predict(X_backtest)\n",
        "\n",
        "print(\"\\n-------Kết quả kiểm tra với backtest set:----------\\n\")\n",
        "target_names = ['Không trả được nợ', 'Trả được nợ']\n",
        "print(classification_report(y_test, y_pred_test, target_names= target_names))\n",
        "print(\"Accuracy (backtest):\", accuracy_score(y_backtest, y_pred_backtest))\n",
        "print(\"Precision (backtest):\", precision_score(y_backtest, y_pred_backtest))\n",
        "print(\"Recall (backtest):\", recall_score(y_backtest, y_pred_backtest))\n",
        "print(\"F1-score (backtest):\", f1_score(y_backtest, y_pred_backtest)) # Call the f1_score function from sklearn.metrics\n",
        "print(\"AUC (backtest):\", roc_auc_score(y_backtest, model.predict_proba(X_backtest)[:, 1]))\n",
        "print(\"Confusion Matrix (backtest):\")\n",
        "print(confusion_matrix(y_backtest, y_pred_backtest))"
      ],
      "metadata": {
        "colab": {
          "base_uri": "https://localhost:8080/"
        },
        "id": "0USlJ4wJFVfK",
        "outputId": "ef0f8d2d-6aa0-4cf3-a33a-264f27997d4e"
      },
      "execution_count": 56,
      "outputs": [
        {
          "output_type": "stream",
          "name": "stdout",
          "text": [
            "\n",
            "-------Kết quả kiểm tra với testing set:----------\n",
            "\n",
            "                   precision    recall  f1-score   support\n",
            "\n",
            "Không trả được nợ       0.51      0.09      0.15     38146\n",
            "      Trả được nợ       0.79      0.98      0.87    134539\n",
            "\n",
            "         accuracy                           0.78    172685\n",
            "        macro avg       0.65      0.53      0.51    172685\n",
            "     weighted avg       0.73      0.78      0.71    172685\n",
            "\n",
            "Accuracy (test): 0.7799229811506501\n",
            "Precision (test): 0.7906822684870128\n",
            "Recall (test): 0.9758657340994061\n",
            "F1-score (test): 0.8735678070980878\n",
            "AUC (test): 0.7001520770142067\n",
            "Confusion Matrix (test):\n",
            "[[  3389  34757]\n",
            " [  3247 131292]]\n",
            "\n",
            "-------Kết quả kiểm tra với backtest set:----------\n",
            "\n",
            "                   precision    recall  f1-score   support\n",
            "\n",
            "Không trả được nợ       0.51      0.09      0.15     38146\n",
            "      Trả được nợ       0.79      0.98      0.87    134539\n",
            "\n",
            "         accuracy                           0.78    172685\n",
            "        macro avg       0.65      0.53      0.51    172685\n",
            "     weighted avg       0.73      0.78      0.71    172685\n",
            "\n",
            "Accuracy (backtest): 0.7799622431725001\n",
            "Precision (backtest): 0.7898490588730531\n",
            "Recall (backtest): 0.9772982625841735\n",
            "F1-score (backtest): 0.8736318738879558\n",
            "AUC (backtest): 0.7018840394119482\n",
            "Confusion Matrix (backtest):\n",
            "[[  3343  34946]\n",
            " [  3051 131344]]\n"
          ]
        }
      ]
    },
    {
      "cell_type": "code",
      "source": [
        "# prompt: vẽ ma trận nhầm lẫn của df_backtest\n",
        "\n",
        "# Calculate the confusion matrix for df_backtest\n",
        "cm_backtest = confusion_matrix(y_backtest, y_pred_backtest)\n",
        "\n",
        "# Plot the confusion matrix\n",
        "plt.figure(figsize=(8, 6))\n",
        "sns.heatmap(cm_backtest, annot=True, fmt=\"d\", cmap=\"Blues\", xticklabels=['Predicted 0', 'Predicted 1'], yticklabels=['Actual 0', 'Actual 1'])\n",
        "plt.title(\"Confusion Matrix (Backtest Set)\")\n",
        "plt.xlabel(\"Predicted Labels\")\n",
        "plt.ylabel(\"True Labels\")\n",
        "plt.show()\n"
      ],
      "metadata": {
        "colab": {
          "base_uri": "https://localhost:8080/",
          "height": 541
        },
        "id": "R02GAM9qF3T7",
        "outputId": "113d838e-2dc9-43ce-cd5f-fb22ad4635e1"
      },
      "execution_count": 55,
      "outputs": [
        {
          "output_type": "display_data",
          "data": {
            "text/plain": [
              "<Figure size 800x600 with 2 Axes>"
            ],
            "image/png": "[encoded data removed]"
          },
          "metadata": {}
        }
      ]
    },
    {
      "cell_type": "code",
      "source": [
        "# prompt: # prompt: sau khi kiểm tra bằng 2 tập test và backtest hãy đưa ra kết luận về mô hình\n",
        "\n",
        "print(\"Kết luận về mô hình:\")\n",
        "print(\"Sau khi kiểm tra mô hình với cả tập kiểm tra (test set) và tập kiểm tra lại (backtest set), ta có thể thấy rằng mô hình có độ chính xác tổng thể (accuracy) tương đối tốt trên cả hai tập dữ liệu.\")\n",
        "print(\"Tuy nhiên, cần lưu ý đến các chỉ số khác như độ chính xác (precision), độ phủ (recall) và F1-score để đánh giá hiệu quả của mô hình trong việc dự đoán các khoản vay trả đúng hạn và không trả đúng hạn.\")\n",
        "print(\"Kết quả trên tập kiểm tra lại (backtest set) cho thấy khả năng tổng quát hóa của mô hình trên dữ liệu chưa từng gặp trước đây.\")\n",
        "print(\"Nếu độ chính xác trên tập kiểm tra lại (backtest set) tương đương hoặc gần tương đương với độ chính xác trên tập kiểm tra (test set), thì mô hình có khả năng tổng quát hóa tốt và có thể được triển khai vào thực tế.\")\n",
        "print(\"Ngoài ra, cần xem xét đến các yếu tố khác như chi phí của việc dự đoán sai (false positive, false negative) để đưa ra quyết định cuối cùng về việc sử dụng mô hình.\")\n",
        "print(\"Tóm lại, mô hình Logistic Regression với phương pháp Random Under-Sampling đã cho thấy hiệu quả tương đối tốt trong việc dự đoán khả năng trả nợ của khách hàng. Tuy nhiên, cần tiếp tục cải thiện mô hình bằng cách thử nghiệm các phương pháp xử lý dữ liệu khác, các thuật toán khác và điều chỉnh các tham số của mô hình để đạt được hiệu quả dự đoán cao hơn.\")\n"
      ],
      "metadata": {
        "id": "aSC5qJILIJf5"
      },
      "execution_count": null,
      "outputs": []
    },
    {
      "cell_type": "code",
      "source": [
        "# prompt: giả sử vay 1000$, lãi suất 5.3%, thời hạn 36 tháng, lãi kép, lạm phát 2.44%. Hỏi tổn thất cho 1 giao dịch là bao nhiêu tiền?\n",
        "\n",
        "principal = 1000  # Số tiền vay ban đầu\n",
        "interest_rate = 0.053  # Lãi suất\n",
        "term = 36  # Thời hạn vay (tháng)\n",
        "inflation_rate = 0.0244  # Lạm phát\n",
        "\n",
        "# Tính tổng số tiền phải trả sau 36 tháng với lãi kép\n",
        "total_amount = principal * (1 + interest_rate / 12) ** (term)\n",
        "\n",
        "# Tính giá trị hiện tại của số tiền phải trả, tính đến lạm phát\n",
        "present_value = total_amount / (1 + inflation_rate) ** (term / 12)\n",
        "\n",
        "# Tính tổn thất cho 1 giao dịch\n",
        "loss = present_value - principal\n",
        "\n",
        "print(f\"Tổng số tiền phải trả sau 36 tháng: ${total_amount:.2f}\")\n",
        "print(f\"Giá trị hiện tại của số tiền phải trả, tính đến lạm phát: ${present_value:.2f}\")\n",
        "print(f\"Tổn thất cho 1 giao dịch: ${loss:.2f}\")\n"
      ],
      "metadata": {
        "colab": {
          "base_uri": "https://localhost:8080/"
        },
        "id": "wS-pYQDoI3cR",
        "outputId": "a1dafb67-45ab-4453-b296-3e181481f2db"
      },
      "execution_count": 57,
      "outputs": [
        {
          "output_type": "stream",
          "name": "stdout",
          "text": [
            "Tổng số tiền phải trả sau 36 tháng: $1171.93\n",
            "Giá trị hiện tại của số tiền phải trả, tính đến lạm phát: $1090.16\n",
            "Tổn thất cho 1 giao dịch: $90.16\n"
          ]
        }
      ]
    },
    {
      "cell_type": "code",
      "source": [
        "# prompt: tổng khoảng 1 triệu giao dịch thì tổn thất bao nhiêu tiền\n",
        "\n",
        "principal = 1000  # Số tiền vay ban đầu\n",
        "interest_rate = 0.053  # Lãi suất\n",
        "term = 36  # Thời hạn vay (tháng)\n",
        "inflation_rate = 0.0244  # Lạm phát\n",
        "num_transactions = 1000000  # Số lượng giao dịch\n",
        "\n",
        "# Tính tổng số tiền phải trả sau 36 tháng với lãi kép\n",
        "total_amount = principal * (1 + interest_rate / 12) ** (term)\n",
        "\n",
        "# Tính giá trị hiện tại của số tiền phải trả, tính đến lạm phát\n",
        "present_value = total_amount / (1 + inflation_rate) ** (term / 12)\n",
        "\n",
        "# Tính tổn thất cho 1 giao dịch\n",
        "loss_per_transaction = present_value - principal\n",
        "\n",
        "# Tính tổng tổn thất cho tất cả các giao dịch\n",
        "total_loss = loss_per_transaction * num_transactions\n",
        "\n",
        "print(f\"Tổng tổn thất cho {num_transactions} giao dịch: ${total_loss:.2f}\")\n"
      ],
      "metadata": {
        "colab": {
          "base_uri": "https://localhost:8080/"
        },
        "id": "HQQexCu9JGWi",
        "outputId": "b0dd88f8-b977-4eda-c091-f898636e5c7f"
      },
      "execution_count": 59,
      "outputs": [
        {
          "output_type": "stream",
          "name": "stdout",
          "text": [
            "Tổng tổn thất cho 1000000 giao dịch: $90164584.10\n"
          ]
        }
      ]
    },
    {
      "cell_type": "code",
      "source": [
        "# prompt: khi áp dụng mô hình huấn luyện, doanh nghiệp sẽ có tổn thất là bao nhiêu tiền cho FN\n",
        "\n",
        "# Lấy giá trị từ confusion matrix\n",
        "TN, FP, FN, TP = confusion_matrix(y_test, y_pred).ravel()\n",
        "\n",
        "# Giả sử số tiền vay trung bình là 1000 USD\n",
        "principal = 1000\n",
        "\n",
        "# Tính tổn thất cho mỗi FN (False Negative)\n",
        "# FN là trường hợp dự đoán sai là trả được nợ nhưng thực tế là không trả được nợ\n",
        "loss_per_fn = principal  # Giả sử tổn thất cho mỗi FN là bằng số tiền vay\n",
        "\n",
        "# Tính tổng tổn thất cho tất cả các FN\n",
        "total_loss_fn = loss_per_fn * FN\n",
        "\n",
        "print(f\"Tổng tổn thất cho FN: ${total_loss_fn:.2f}\")\n"
      ],
      "metadata": {
        "colab": {
          "base_uri": "https://localhost:8080/"
        },
        "id": "nEJ9J6F2JKId",
        "outputId": "d90b69ad-a32b-46b4-9299-6508d86fd6ec"
      },
      "execution_count": 60,
      "outputs": [
        {
          "output_type": "stream",
          "name": "stdout",
          "text": [
            "Tổng tổn thất cho FN: $3247000.00\n"
          ]
        }
      ]
    },
    {
      "cell_type": "code",
      "source": [
        "A1 = 90164584.10\n",
        "A2 = 3247000.00\n",
        "\n",
        "percent_decrease = ((A1 - A2) / A1) * 100\n",
        "\n",
        "print(f\"Giảm {percent_decrease:.2f}%\")\n"
      ],
      "metadata": {
        "colab": {
          "base_uri": "https://localhost:8080/"
        },
        "id": "5TW-RgtHKrDc",
        "outputId": "34ddcd65-b75e-4c06-af10-accc24b8fda9"
      },
      "execution_count": 62,
      "outputs": [
        {
          "output_type": "stream",
          "name": "stdout",
          "text": [
            "Giảm 96.40%\n"
          ]
        }
      ]
    },
    {
      "cell_type": "code",
      "source": [
        "# prompt: xây dựng mô hình và in ra ma trận nhầm lẫn của tập dữ liệu df_train\n",
        "\n",
        "from sklearn.linear_model import LogisticRegression\n",
        "from sklearn.metrics import confusion_matrix\n",
        "\n",
        "# Separate features (X) and target variable (y) for df_train\n",
        "X_train = df_train.drop('loan_status', axis=1)\n",
        "y_train = df_train['loan_status']\n",
        "\n",
        "# Initialize the Logistic Regression model\n",
        "model = LogisticRegression(max_iter=1000)\n",
        "\n",
        "# Train the model on df_train\n",
        "model.fit(X_train, y_train)\n",
        "\n",
        "# Make predictions on the training set\n",
        "y_pred_train = model.predict(X_train)\n",
        "\n",
        "# Calculate the confusion matrix for df_train\n",
        "cm_train = confusion_matrix(y_train, y_pred_train)\n",
        "\n",
        "# Print the confusion matrix\n",
        "print(\"Confusion Matrix (Training Set):\")\n",
        "print(cm_train)\n"
      ],
      "metadata": {
        "colab": {
          "base_uri": "https://localhost:8080/"
        },
        "id": "jD3CHFdgLra0",
        "outputId": "426190f8-23ef-4ea4-ca4d-42d40684cb3c"
      },
      "execution_count": 67,
      "outputs": [
        {
          "output_type": "stream",
          "name": "stdout",
          "text": [
            "Confusion Matrix (Training Set):\n",
            "[[ 15796 162399]\n",
            " [ 15076 612589]]\n"
          ]
        }
      ]
    }
  ]
}